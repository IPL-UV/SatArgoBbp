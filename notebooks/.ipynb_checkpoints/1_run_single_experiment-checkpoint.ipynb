{
 "cells": [
  {
   "cell_type": "code",
   "execution_count": 1,
   "id": "65d28040-2def-40be-843e-ccc3b7ee188a",
   "metadata": {},
   "outputs": [],
   "source": [
    "%load_ext autoreload\n",
    "%autoreload 2"
   ]
  },
  {
   "cell_type": "code",
   "execution_count": 2,
   "id": "e4daa019-7da1-4c96-83c2-df941d1ef9e6",
   "metadata": {},
   "outputs": [],
   "source": [
    "import sys\n",
    "import pandas as pd\n",
    "import numpy as np\n",
    "from sklearn.model_selection import train_test_split"
   ]
  },
  {
   "cell_type": "code",
   "execution_count": 3,
   "id": "b3dab8d2-ae36-49a5-bd5c-cdb2f47dcb11",
   "metadata": {},
   "outputs": [],
   "source": [
    "sys.path.append(\"../src\")"
   ]
  },
  {
   "cell_type": "code",
   "execution_count": 5,
   "id": "5071b57f-aae8-44c1-950f-b6efd0ab2019",
   "metadata": {},
   "outputs": [
    {
     "ename": "SyntaxError",
     "evalue": "invalid syntax (plot_utils.py, line 289)",
     "output_type": "error",
     "traceback": [
      "Traceback \u001b[36m(most recent call last)\u001b[39m:\n",
      "  File \u001b[92m~/phd/SatArgoBbp/.pixi/envs/default/lib/python3.12/site-packages/IPython/core/interactiveshell.py:3699\u001b[39m in \u001b[95mrun_code\u001b[39m\n    exec(code_obj, self.user_global_ns, self.user_ns)\n",
      "\u001b[36m  \u001b[39m\u001b[36mCell\u001b[39m\u001b[36m \u001b[39m\u001b[32mIn[5]\u001b[39m\u001b[32m, line 5\u001b[39m\n\u001b[31m    \u001b[39m\u001b[31mfrom plotting.plot_utils import plot_r2_depth_profile, plot_feature_importance, plot_bbp_profiles, plot_relative_error, plot_validation_scatter\u001b[39m\n",
      "  \u001b[36mFile \u001b[39m\u001b[32m~/phd/SatArgoBbp/notebooks/../src/plotting/plot_utils.py:289\u001b[39m\n\u001b[31m    \u001b[39m\u001b[31mplt.figure(figsize=(8,8))p\u001b[39m\n                             ^\n\u001b[31mSyntaxError\u001b[39m\u001b[31m:\u001b[39m invalid syntax\n"
     ]
    }
   ],
   "source": [
    "from model.train import train_model\n",
    "from model.model_utils import export_model\n",
    "from feature_selector import select_features\n",
    "from data_loader import load_dataset, export_dataset\n",
    "from plotting.plot_utils import plot_r2_depth_profile, plot_feature_importance, plot_bbp_profiles, plot_relative_error, plot_validation_scatter\n",
    "from model.model_metrics import overall_metrics, save_overall_metrics, depth_metrics, overall_validation_metrics, \\\n",
    "save_overall_validation_metrics,depth_val_metrics\n",
    "from utils import start_experiments, ExportConfig, ExperimentSetup, prepare_xy, log10_to_bbp"
   ]
  },
  {
   "cell_type": "code",
   "execution_count": null,
   "id": "d03f38d8-5eec-4f09-ac63-91c407ee7d71",
   "metadata": {},
   "outputs": [],
   "source": [
    "start_experiments()"
   ]
  },
  {
   "cell_type": "code",
   "execution_count": null,
   "id": "317a4a0b-5650-4713-931d-416b8ba46a22",
   "metadata": {},
   "outputs": [],
   "source": [
    "exports = ExportConfig(export_datasets=True, \n",
    "                         export_model=True, \n",
    "                         export_model_metrics=True, \n",
    "                         export_fig_depth=True, \n",
    "                         export_fig_profile=True, \n",
    "                         export_fig_importance=True, \n",
    "                         export_validation_metrics=True, \n",
    "                         export_fig_val=True)"
   ]
  },
  {
   "cell_type": "code",
   "execution_count": null,
   "id": "25f035f9-0fa5-4fcc-b1ff-c02b055e53e7",
   "metadata": {
    "scrolled": true
   },
   "outputs": [],
   "source": [
    "print(f\"Regions:{ExperimentSetup.ALL_REGIONS}\") \n",
    "print(f\"Depths:{ExperimentSetup.ALL_DEPTHS}\") \n",
    "print(f\"Experiments:{ExperimentSetup.ALL_EXPERIMENTS}\") "
   ]
  },
  {
   "cell_type": "code",
   "execution_count": null,
   "id": "3ab470b4-591f-4701-ae96-a636dd641ede",
   "metadata": {},
   "outputs": [],
   "source": [
    "setup = ExperimentSetup(region=\"NA\", depth=\"50\", experiment=\"GCGOBGC\")"
   ]
  },
  {
   "cell_type": "code",
   "execution_count": null,
   "id": "209607b5-fef9-4f45-ac98-ae40be0703d0",
   "metadata": {},
   "outputs": [],
   "source": [
    "print(f\"{setup}\")\n",
    "print(f\"Validation float = {setup.validation_float()}\")"
   ]
  },
  {
   "cell_type": "code",
   "execution_count": null,
   "id": "4d2021b5-bf66-4b01-99a6-0d25f3e86e47",
   "metadata": {},
   "outputs": [],
   "source": [
    "train, validation = load_dataset(setup)"
   ]
  },
  {
   "cell_type": "code",
   "execution_count": null,
   "id": "65137dba-46a8-4a6f-80e7-78c7a993e38c",
   "metadata": {},
   "outputs": [],
   "source": [
    "print(f\"Training set = {train.shape[0]} samples\")\n",
    "print(f\"Input features = {train.shape[1]}\")\n",
    "print(f\"Validation set = {validation.shape[0]}\")"
   ]
  },
  {
   "cell_type": "code",
   "execution_count": null,
   "id": "c3780657-6e69-4e4f-ad68-4a197182d583",
   "metadata": {},
   "outputs": [],
   "source": [
    "export_dataset(train, validation, setup) if exports.export_datasets else None"
   ]
  },
  {
   "cell_type": "code",
   "execution_count": null,
   "id": "c5bbcd99-e642-4086-8658-7e779ce2223c",
   "metadata": {},
   "outputs": [],
   "source": [
    "dataset_features, bbp_outputs = select_features(train, setup)"
   ]
  },
  {
   "cell_type": "code",
   "execution_count": null,
   "id": "17f17a97-9bbf-43cd-99ac-b5dda2ad6826",
   "metadata": {},
   "outputs": [],
   "source": [
    "# Prepare train/test\n",
    "X, y_log = prepare_xy(train, dataset_features, bbp_outputs)"
   ]
  },
  {
   "cell_type": "code",
   "execution_count": null,
   "id": "077d8137-7e11-49d0-9464-998e94c448b6",
   "metadata": {},
   "outputs": [],
   "source": [
    "x_train, x_test, y_train_log, y_test_log = train_test_split(X, y_log, test_size=0.2, random_state=1)"
   ]
  },
  {
   "cell_type": "code",
   "execution_count": null,
   "id": "17925c04-0566-40c6-90c7-804b786d7296",
   "metadata": {},
   "outputs": [],
   "source": [
    "model = train_model(x_train, y_train_log)"
   ]
  },
  {
   "cell_type": "code",
   "execution_count": null,
   "id": "0ff1ba2b-e4ed-4a83-a699-88d2fd693aea",
   "metadata": {},
   "outputs": [],
   "source": [
    "y_pred_log = model.predict(x_test)"
   ]
  },
  {
   "cell_type": "code",
   "execution_count": null,
   "id": "b7ec09a1-d25e-4d78-9dcd-846b95a90ec4",
   "metadata": {},
   "outputs": [],
   "source": [
    "y_pred_bbp = log10_to_bbp(y_pred_log)\n",
    "y_test_bbp = log10_to_bbp(y_test_log)"
   ]
  },
  {
   "cell_type": "code",
   "execution_count": null,
   "id": "0e5dff47-9a3c-4c15-a5ac-92b49d310451",
   "metadata": {},
   "outputs": [],
   "source": [
    "export_model(model, setup) if exports.export_model else None"
   ]
  },
  {
   "cell_type": "code",
   "execution_count": null,
   "id": "b7438754-99e4-43cb-9a20-a568ee7da1fc",
   "metadata": {},
   "outputs": [],
   "source": [
    "ov_metrics = overall_metrics(y_test_bbp,y_pred_bbp)"
   ]
  },
  {
   "cell_type": "code",
   "execution_count": null,
   "id": "c3777aef-2f5f-4aca-b60c-45f7901dfb2a",
   "metadata": {},
   "outputs": [],
   "source": [
    "print(f\"Overall metrics for {setup.region, setup.depth, setup.experiment}:\")\n",
    "ov_metrics"
   ]
  },
  {
   "cell_type": "code",
   "execution_count": null,
   "id": "71b555ac-5e95-4033-918c-7ef8cfa805f0",
   "metadata": {},
   "outputs": [],
   "source": [
    "save_overall_metrics(ov_metrics,setup)if exports.export_model_metrics else None"
   ]
  },
  {
   "cell_type": "code",
   "execution_count": null,
   "id": "82e0e05c-8727-44c4-a51d-941b8f608517",
   "metadata": {},
   "outputs": [],
   "source": [
    "depth_metrics_df = depth_metrics(y_test_bbp,y_pred_bbp, setup)"
   ]
  },
  {
   "cell_type": "code",
   "execution_count": null,
   "id": "2cabd879-375d-4e84-81af-bceb50129c76",
   "metadata": {},
   "outputs": [],
   "source": [
    "depth_metrics_df.to_csv(f\"../results/{setup.region}/{setup.depth}/{setup.experiment}/Model/Metrics/\\\n",
    "{setup.region}_{setup.depth}_{setup.experiment}_depth_metrics.csv\")if exports.export_model_metrics else None"
   ]
  },
  {
   "cell_type": "code",
   "execution_count": null,
   "id": "dd875277-1d93-43ba-86fc-0d125c94459a",
   "metadata": {},
   "outputs": [],
   "source": [
    "plot_r2_depth_profile(depth_metrics_df, setup,exports)"
   ]
  },
  {
   "cell_type": "code",
   "execution_count": null,
   "id": "388ae55a-c6b3-4a04-9823-98cbf5cbacfd",
   "metadata": {},
   "outputs": [],
   "source": [
    "plot_feature_importance(model,x_train, setup, exports)"
   ]
  },
  {
   "cell_type": "code",
   "execution_count": null,
   "id": "75b1fbca-cb8d-4a8f-a32b-7c006c3c5b13",
   "metadata": {
    "scrolled": true
   },
   "outputs": [],
   "source": [
    "plot_bbp_profiles(y_test_bbp, y_pred_bbp, setup, exports)"
   ]
  },
  {
   "cell_type": "code",
   "execution_count": null,
   "id": "9facff73-afcd-4e14-b628-744640cd3156",
   "metadata": {},
   "outputs": [],
   "source": [
    "plot_relative_error(y_test_bbp, y_pred_bbp, setup, exports)"
   ]
  },
  {
   "cell_type": "code",
   "execution_count": null,
   "id": "4075f628-4bfc-4008-8338-0d1782471839",
   "metadata": {},
   "outputs": [],
   "source": [
    "# Prepare validation\n",
    "x_val, y_val_log= prepare_xy(validation, dataset_features, bbp_outputs)"
   ]
  },
  {
   "cell_type": "code",
   "execution_count": null,
   "id": "9d59fe28-23f2-48bd-9827-854de3c37905",
   "metadata": {},
   "outputs": [],
   "source": [
    "y_pred_val_log = model.predict(x_val)"
   ]
  },
  {
   "cell_type": "code",
   "execution_count": null,
   "id": "330d1b2a-d68a-4468-be35-ecb999dc0d1e",
   "metadata": {},
   "outputs": [],
   "source": [
    "y_pred_val_bbp = log10_to_bbp(y_pred_val_log)\n",
    "y_val_bbp = log10_to_bbp(y_val_log)"
   ]
  },
  {
   "cell_type": "code",
   "execution_count": null,
   "id": "0db117aa-8e9c-49e2-8b80-45c2619e0912",
   "metadata": {},
   "outputs": [],
   "source": [
    "ov_metrics_val = overall_validation_metrics(y_val_bbp,y_pred_val_bbp)"
   ]
  },
  {
   "cell_type": "code",
   "execution_count": null,
   "id": "9513a781-9a15-4423-9bff-bfdeb245153f",
   "metadata": {},
   "outputs": [],
   "source": [
    "ov_metrics_val"
   ]
  },
  {
   "cell_type": "code",
   "execution_count": null,
   "id": "3221e572-2366-40af-a29a-c864cef57808",
   "metadata": {},
   "outputs": [],
   "source": [
    "save_overall_validation_metrics(y_val_bbp, y_pred_val_bbp,setup, exports)"
   ]
  },
  {
   "cell_type": "code",
   "execution_count": null,
   "id": "4817a42b-412d-4276-8dc5-736a1d53cd6a",
   "metadata": {},
   "outputs": [],
   "source": [
    "df_metrics = depth_val_metrics(y_val_bbp, y_pred_val_bbp, setup)"
   ]
  },
  {
   "cell_type": "code",
   "execution_count": null,
   "id": "69dedf14-5acb-4efe-97cb-20003040631c",
   "metadata": {},
   "outputs": [],
   "source": [
    "plot_validation_scatter(df_metrics, y_val_log, y_pred_val_log, setup, exports)"
   ]
  },
  {
   "cell_type": "code",
   "execution_count": null,
   "id": "63ab9842-9a4f-450d-890b-ae9130da059a",
   "metadata": {},
   "outputs": [],
   "source": []
  }
 ],
 "metadata": {
  "kernelspec": {
   "display_name": "Python 3 (ipykernel)",
   "language": "python",
   "name": "python3"
  },
  "language_info": {
   "codemirror_mode": {
    "name": "ipython",
    "version": 3
   },
   "file_extension": ".py",
   "mimetype": "text/x-python",
   "name": "python",
   "nbconvert_exporter": "python",
   "pygments_lexer": "ipython3",
   "version": "3.12.11"
  }
 },
 "nbformat": 4,
 "nbformat_minor": 5
}
