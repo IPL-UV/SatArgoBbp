{
 "cells": [
  {
   "cell_type": "code",
   "execution_count": 1,
   "id": "c746eb2a-bf94-43f2-82dd-62c8598a2918",
   "metadata": {},
   "outputs": [],
   "source": [
    "import calendar"
   ]
  },
  {
   "cell_type": "code",
   "execution_count": 2,
   "id": "5b521d46-3e3c-4233-9e5c-90ce871b30cb",
   "metadata": {},
   "outputs": [],
   "source": [
    "colors = {'NA': 'g', 'STG': '#1f77b4'}"
   ]
  },
  {
   "cell_type": "code",
   "execution_count": null,
   "id": "f889204c-8d94-4b0c-9c3a-cdf3fd36dd5f",
   "metadata": {},
   "outputs": [],
   "source": [
    "file = glob.glob(f\"../Datasets/Dataset_NA_250.txt\")[0]\n",
    "NA_dataset =pd.read_csv(file, sep=\"\\t\", na_values='NaN')\n",
    "\n",
    "NA_dates = NA_dataset[\"date_Argo\"].str.split(\"/\",expand=True).astype(int).rename(columns = {0:\"Day\",1:\"Month\",2:\"Year\"})\n",
    "NA_dates[\"Year\"] += 2000"
   ]
  },
  {
   "cell_type": "code",
   "execution_count": null,
   "id": "3c2acf92-75c9-48e6-a3aa-0c1eb106c1d3",
   "metadata": {},
   "outputs": [],
   "source": [
    "\n",
    "\n",
    "file = glob.glob(f\"../Datasets/Dataset_NA_250.txt\")[0]\n",
    "NA_dataset =pd.read_csv(file, sep=\"\\t\", na_values='NaN')\n",
    "NA_dates = NA_dataset[\"date_Argo\"].str.split(\"/\",expand=True).astype(int).rename(columns = {0:\"Day\",1:\"Month\",2:\"Year\"})\n",
    "NA_dates[\"Year\"] += 2000\n",
    "\n",
    "# Count frequencies manually\n",
    "NA_year_counts = NA_dates[\"Year\"].value_counts().sort_index()\n",
    "NA_month_counts = NA_dates[\"Month\"].value_counts().sort_index()\n",
    "# Convert month numbers to abbreviated names (e.g., 1 → Jan, 2 → Feb, ...)\n",
    "month_labels = [calendar.month_abbr[m] for m in NA_month_counts.index]\n",
    "\n",
    "file = glob.glob(f\"../Datasets/Dataset_STG_250.txt\")[0]\n",
    "STG_dataset =pd.read_csv(file, sep=\"\\t\", na_values='NaN')\n",
    "\n",
    "\n",
    "STG_dates = STG_dataset[\"date_Argo\"].str.split(\"/\",expand=True).astype(int).rename(columns = {0:\"Day\",1:\"Month\",2:\"Year\"})\n",
    "STG_dates[\"Year\"] += 2000\n",
    "\n",
    "# Count frequencies manually\n",
    "STG_year_counts = STG_dates[\"Year\"].value_counts().sort_index()\n",
    "STG_month_counts = STG_dates[\"Month\"].value_counts().sort_index()\n",
    "\n",
    "# --- Prepare month labels ---\n",
    "month_labels = [calendar.month_abbr[m] for m in range(1, 13)]\n",
    "\n",
    "# Ensure months 1–12 are always present for consistent comparison\n",
    "for i in range(1, 13):\n",
    "    if i not in NA_month_counts.index:\n",
    "        NA_month_counts.loc[i] = 0\n",
    "    if i not in STG_month_counts.index:\n",
    "        STG_month_counts.loc[i] = 0\n",
    "\n",
    "# Sort to align months correctly\n",
    "NA_month_counts = NA_month_counts.sort_index()\n",
    "STG_month_counts = STG_month_counts.sort_index()\n",
    "\n",
    "# Get year union for alignment\n",
    "all_years = sorted(set(NA_year_counts.index).union(set(STG_year_counts.index)))\n",
    "NA_year_vals = [NA_year_counts.get(y, 0) for y in all_years]\n",
    "STG_year_vals = [STG_year_counts.get(y, 0) for y in all_years]\n",
    "\n",
    "# Bar positions\n",
    "bar_width = 0.4\n",
    "x_year = np.arange(len(all_years))\n",
    "x_month = np.arange(12)\n",
    "\n",
    "# --- Plot ---\n",
    "fig, (ax1, ax2) = plt.subplots(1, 2, figsize=(9, 3), dpi=150)\n",
    "\n",
    "# --- Plot 1: Year counts ---\n",
    "ax1.bar(x_year - bar_width/2, NA_year_vals, width=bar_width, label='NA', color=colors[\"NA\"], alpha=0.4, edgecolor='grey')\n",
    "ax1.bar(x_year + bar_width/2, STG_year_vals, width=bar_width, label='STG', color=colors[\"STG\"], alpha=0.4, edgecolor='grey')\n",
    "ax1.set_xticks(x_year)\n",
    "ax1.set_xticklabels(all_years)\n",
    "ax1.set_ylabel(\"Frequency\")\n",
    "ax1.legend()\n",
    "\n",
    "# --- Plot 2: Month counts ---\n",
    "ax2.bar(x_month - bar_width/2, NA_month_counts.values, width=bar_width, label='NA', color=colors[\"NA\"], alpha=0.4, edgecolor='grey')\n",
    "ax2.bar(x_month + bar_width/2, STG_month_counts.values, width=bar_width, label='STG', color=colors[\"STG\"], alpha=0.4, edgecolor='grey')\n",
    "ax2.set_xticks(x_month)\n",
    "ax2.set_xticklabels(month_labels, rotation = 45)\n",
    "\n",
    "\n",
    "plt.tight_layout()\n",
    "\n",
    "if export_fig_models:\n",
    "    plt.savefig(f\"../Results/Comparisons/Model_selection/Temporal_distribution.pdf\")\n",
    "\n",
    "plt.show()\n"
   ]
  }
 ],
 "metadata": {
  "kernelspec": {
   "display_name": "Python 3 (ipykernel)",
   "language": "python",
   "name": "python3"
  },
  "language_info": {
   "codemirror_mode": {
    "name": "ipython",
    "version": 3
   },
   "file_extension": ".py",
   "mimetype": "text/x-python",
   "name": "python",
   "nbconvert_exporter": "python",
   "pygments_lexer": "ipython3",
   "version": "3.12.11"
  }
 },
 "nbformat": 4,
 "nbformat_minor": 5
}
